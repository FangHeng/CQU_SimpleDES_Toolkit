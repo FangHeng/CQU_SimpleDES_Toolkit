{
 "cells": [
  {
   "cell_type": "markdown",
   "metadata": {
    "collapsed": false
   },
   "source": [
    "# 编程和测试要求\n",
    "## 3. 拓展功能\n",
    "\n",
    "> 考虑到向实用性扩展，加密算法的数据输入可以是ASII编码字符串(分组为1 Byte)，对应地输出也可以是ACII字符串(很可能是乱码)。\n",
    "\n",
    "我们这里选择对加密结果按照16进制的格式输出，避免输出乱码或者无法显示的系统控制符："
   ]
  },
  {
   "cell_type": "code",
   "execution_count": 1,
   "metadata": {
    "collapsed": false,
    "ExecuteTime": {
     "end_time": "2023-09-23T16:18:40.208966600Z",
     "start_time": "2023-09-23T16:18:40.189033300Z"
    }
   },
   "outputs": [
    {
     "name": "stdout",
     "output_type": "stream",
     "text": [
      "使用S-DES加密算法进行加密/解密处理...\n"
     ]
    }
   ],
   "source": [
    "# 加载实现的加密算法类以及测试用类\n",
    "from SDES.SDES import SDES\n",
    "from unittest.mock import Mock"
   ]
  },
  {
   "cell_type": "markdown",
   "metadata": {
    "collapsed": false
   },
   "source": [
    "### 3.1 ASCII码的处理\n",
    "\n",
    "在后端的视图函数中根据用户的选择处理不同格式的输入："
   ]
  },
  {
   "cell_type": "code",
   "execution_count": 2,
   "metadata": {
    "collapsed": false,
    "ExecuteTime": {
     "end_time": "2023-09-23T16:18:40.223916600Z",
     "start_time": "2023-09-23T16:18:40.209963200Z"
    }
   },
   "outputs": [],
   "source": [
    "# 用户明文处理函数\n",
    "def plaintext_sent(request):\n",
    "    if request.method == 'POST':\n",
    "        # 接收用户输入\n",
    "        key_input = request.POST['key']\n",
    "        plaintext_input = request.POST['plaintext']\n",
    "        type = request.POST['type'] \n",
    "        \n",
    "        # 用户选择输入ASCII编码\n",
    "        if (type == \"ASCII\"):\n",
    "            sdes = SDES(key=key_input)\n",
    "            out = \"\"\n",
    "            for i in range(len(plaintext_input)):\n",
    "                temp = bin(ord(plaintext_input[i])).replace(\"0b\",\"\").zfill(8)\n",
    "                out_bin = sdes.encrypt(temp)\n",
    "                out_hex = hex(int(out_bin, 2))[2:].zfill(2)\n",
    "                out += (out_hex)\n",
    "            data = {\n",
    "                \"ciphertext\" : out\n",
    "            }\n",
    "            print(\"加密后的密文是: \",out)\n",
    "            return data\n",
    "        # 用户选择Bit编码\n",
    "        elif(type == \"Bit\"):\n",
    "            sdes = SDES(key=key_input)\n",
    "            out_bin = sdes.encrypt(plaintext_input)\n",
    "            data = {\n",
    "                \"ciphertext\": out_bin\n",
    "            }\n",
    "            print(\"加密后的密文是: \",out_bin)\n",
    "            return data\n"
   ]
  },
  {
   "cell_type": "markdown",
   "metadata": {
    "collapsed": false
   },
   "source": [
    "我们将模拟一个用户在前端生成的HttpRequest请求来测试:"
   ]
  },
  {
   "cell_type": "markdown",
   "metadata": {
    "collapsed": false
   },
   "source": []
  },
  {
   "cell_type": "code",
   "execution_count": 3,
   "metadata": {
    "collapsed": false,
    "ExecuteTime": {
     "end_time": "2023-09-23T16:18:40.268766500Z",
     "start_time": "2023-09-23T16:18:40.223916600Z"
    }
   },
   "outputs": [
    {
     "name": "stdout",
     "output_type": "stream",
     "text": [
      "加密后的密文是:  24deae96\n"
     ]
    }
   ],
   "source": [
    "# 创建一个模拟的 HttpRequest 对象\n",
    "request_plain = Mock()\n",
    "\n",
    "# 设置模拟对象的属性\n",
    "request_plain.method = 'POST'\n",
    "request_plain.POST = {\n",
    "    'key': '0101010101',\n",
    "    'plaintext': 'code',\n",
    "    'type': 'ASCII',\n",
    "}\n",
    "# 测试\n",
    "response = plaintext_sent(request_plain)"
   ]
  },
  {
   "cell_type": "markdown",
   "metadata": {
    "collapsed": false
   },
   "source": [
    "### 3.2 对密文的处理\n",
    "\n",
    "在后端的视图函数中根据用户的选择处理不同格式的输入："
   ]
  },
  {
   "cell_type": "code",
   "execution_count": 4,
   "metadata": {
    "collapsed": false,
    "ExecuteTime": {
     "end_time": "2023-09-23T16:18:40.281723300Z",
     "start_time": "2023-09-23T16:18:40.241857200Z"
    }
   },
   "outputs": [],
   "source": [
    "# 用户输入待转换的密文\n",
    "def ciphertext_sent(request):\n",
    "    if request.method == 'POST':\n",
    "        # 获取用户输入\n",
    "        key_input = request.POST['key']\n",
    "        ciphertext_input = request.POST['plaintext']\n",
    "        type = request.POST['type']\n",
    "        # 用户选择输入ASCII编码\n",
    "        if(type == \"ASCII\"):\n",
    "            sdes = SDES(key=key_input)\n",
    "            out = \"\"\n",
    "            for i in range(len(ciphertext_input)//2):\n",
    "                temp1 = bin(int(ciphertext_input[2*i], 16)).replace(\"0b\", \"\").zfill(4)\n",
    "                temp2 = bin(int(ciphertext_input[2*i+1], 16)).replace(\"0b\", \"\").zfill(4)\n",
    "                out_bin = sdes.decrypt(temp1+temp2)\n",
    "                out_chr=chr(int(out_bin, 2))\n",
    "                out += (out_chr)\n",
    "            data = {\n",
    "                \"ciphertext\": out\n",
    "            }\n",
    "            print(\"解密后的明文是:\",out)\n",
    "            return data\n",
    "        \n",
    "        # 用户选择输入Bit编码\n",
    "        elif(type == \"Bit\"):\n",
    "            sdes = SDES(key=key_input)\n",
    "            out_bin = sdes.decrypt(ciphertext_input)\n",
    "            data = {\n",
    "                \"ciphertext\": out_bin\n",
    "            }\n",
    "            print(\"解密后的明文是:\",out_bin)\n",
    "            return data"
   ]
  },
  {
   "cell_type": "code",
   "execution_count": 5,
   "metadata": {
    "collapsed": false,
    "ExecuteTime": {
     "end_time": "2023-09-23T16:18:40.281723300Z",
     "start_time": "2023-09-23T16:18:40.257803700Z"
    }
   },
   "outputs": [
    {
     "name": "stdout",
     "output_type": "stream",
     "text": [
      "解密后的明文是: code\n"
     ]
    }
   ],
   "source": [
    "# 创建一个模拟的 HttpRequest 对象并输入\n",
    "request_cipher = Mock()\n",
    "\n",
    "# 设置模拟对象的属性\n",
    "request_cipher.method = 'POST'\n",
    "request_cipher.POST = {\n",
    "    'key': '0101010101',\n",
    "    'plaintext': '24deae96',\n",
    "    'type': 'ASCII',\n",
    "}\n",
    "\n",
    "#函数测试\n",
    "response = ciphertext_sent(request_cipher)"
   ]
  },
  {
   "cell_type": "markdown",
   "metadata": {
    "collapsed": false
   },
   "source": [
    "经过一次模拟的用户请求测试，可以看出我们对ASCII码的处理无误。"
   ]
  }
 ],
 "metadata": {
  "kernelspec": {
   "display_name": "Python 3",
   "language": "python",
   "name": "python3"
  },
  "language_info": {
   "codemirror_mode": {
    "name": "ipython",
    "version": 2
   },
   "file_extension": ".py",
   "mimetype": "text/x-python",
   "name": "python",
   "nbconvert_exporter": "python",
   "pygments_lexer": "ipython2",
   "version": "2.7.6"
  }
 },
 "nbformat": 4,
 "nbformat_minor": 0
}
