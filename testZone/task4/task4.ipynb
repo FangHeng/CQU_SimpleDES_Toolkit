{
 "cells": [
  {
   "cell_type": "markdown",
   "source": [
    "# 编程和测试要求\n",
    "## 4. 暴力破解\n",
    "\n",
    "> 假设你找到了使用相同密钥的明、密文对(一个或多个)，请尝试使用暴力破解的方法找到正确的密钥Key。在编写程序时，你也可以考虑使用多线程的方式提升破解的效率。请设定时间戳，用视频或动图展示你在多长时间内完成了暴力破解。"
   ],
   "metadata": {
    "collapsed": false
   }
  },
  {
   "cell_type": "code",
   "execution_count": 1,
   "outputs": [
    {
     "name": "stdout",
     "output_type": "stream",
     "text": [
      "使用S-DES加密算法进行加密/解密处理...\n"
     ]
    }
   ],
   "source": [
    "# 加载实现的加密算法类\n",
    "from SDES.SDES import SDES"
   ],
   "metadata": {
    "collapsed": false,
    "ExecuteTime": {
     "end_time": "2023-09-22T16:36:03.233784500Z",
     "start_time": "2023-09-22T16:36:03.196784900Z"
    }
   }
  },
  {
   "cell_type": "markdown",
   "source": [
    "### 4.1 定义暴力破解代码\n",
    "\n",
    "为了进行暴力破解，我们需要遍历所有可能的密钥，然后用每一个可能的密钥进行解密操作，检查解密后的结果是否是预期的明文。"
   ],
   "metadata": {
    "collapsed": false
   }
  },
  {
   "cell_type": "code",
   "execution_count": 2,
   "outputs": [],
   "source": [
    "def brute_force_attack(ciphertext, expected_plaintext):\n",
    "    '''暴力破解SDES密钥并返回所有可能的密钥'''\n",
    "    possible_keys = []\n",
    "    for i in range(1024):  # 2^10个可能的密钥\n",
    "        key = bin(i)[2:].zfill(10)  # 将数字转化为10位的二进制字符串表示\n",
    "        sdes = SDES(key)\n",
    "        decrypted_text = sdes.decrypt(ciphertext)\n",
    "        if decrypted_text == expected_plaintext:\n",
    "            possible_keys.append(key)\n",
    "\n",
    "    return possible_keys"
   ],
   "metadata": {
    "collapsed": false,
    "ExecuteTime": {
     "end_time": "2023-09-22T16:36:03.239785400Z",
     "start_time": "2023-09-22T16:36:03.204785100Z"
    }
   }
  },
  {
   "cell_type": "markdown",
   "source": [
    "### 4.2 测试1\n",
    "plaintext1 = 11111111\n",
    "ciphertext1 = 11101000\n",
    "key1 = 1010101010"
   ],
   "metadata": {
    "collapsed": false
   }
  },
  {
   "cell_type": "code",
   "execution_count": 3,
   "outputs": [
    {
     "name": "stdout",
     "output_type": "stream",
     "text": [
      "Possible keys are: 0001000101, 0101000101, 1001110011, 1010101010, 1101110011, 1110101010\n"
     ]
    }
   ],
   "source": [
    "ciphertext1 = \"11101000\"\n",
    "expected_plaintext1 = \"11111111\"\n",
    "\n",
    "found_keys = brute_force_attack(ciphertext1, expected_plaintext1)\n",
    "if found_keys:\n",
    "    print(f\"Possible keys are: {', '.join(found_keys)}\")\n",
    "else:\n",
    "    print(\"No keys found.\")"
   ],
   "metadata": {
    "collapsed": false,
    "ExecuteTime": {
     "end_time": "2023-09-22T16:36:03.249797700Z",
     "start_time": "2023-09-22T16:36:03.221785300Z"
    }
   }
  },
  {
   "cell_type": "markdown",
   "source": [
    "### 4.3 测试2\n",
    "plaintext2 = 11001100\n",
    "ciphertext2 = 10010101\n",
    "key2 = 1111000001"
   ],
   "metadata": {
    "collapsed": false
   }
  },
  {
   "cell_type": "code",
   "execution_count": 4,
   "outputs": [
    {
     "name": "stdout",
     "output_type": "stream",
     "text": [
      "Possible keys are: 1001110011, 1010101010, 1101110011, 1110101010\n"
     ]
    }
   ],
   "source": [
    "ciphertext2 = \"10010101\"\n",
    "expected_plaintext2 = \"11001100\"\n",
    "\n",
    "found_keys = brute_force_attack(ciphertext2, expected_plaintext2)\n",
    "if found_keys:\n",
    "    print(f\"Possible keys are: {', '.join(found_keys)}\")\n",
    "else:\n",
    "    print(\"No keys found.\")"
   ],
   "metadata": {
    "collapsed": false,
    "ExecuteTime": {
     "end_time": "2023-09-22T16:36:03.304797500Z",
     "start_time": "2023-09-22T16:36:03.250797700Z"
    }
   }
  },
  {
   "cell_type": "markdown",
   "source": [
    "### 4.4 测试3\n",
    "plaintext3 = 11111111\n",
    "ciphertext3 = 01011111\n",
    "key3 = 1111111000"
   ],
   "metadata": {
    "collapsed": false
   }
  },
  {
   "cell_type": "code",
   "execution_count": 5,
   "outputs": [
    {
     "name": "stdout",
     "output_type": "stream",
     "text": [
      "Possible keys are: 0001001011, 0101001011, 1011111000, 1111111000\n"
     ]
    }
   ],
   "source": [
    "ciphertext3 = \"01011111\"\n",
    "expected_plaintext3 = \"11111111\"\n",
    "\n",
    "found_keys = brute_force_attack(ciphertext3, expected_plaintext3)\n",
    "if found_keys:\n",
    "    print(f\"Possible keys are: {', '.join(found_keys)}\")\n",
    "else:\n",
    "    print(\"No keys found.\")"
   ],
   "metadata": {
    "collapsed": false,
    "ExecuteTime": {
     "end_time": "2023-09-22T16:36:03.313797600Z",
     "start_time": "2023-09-22T16:36:03.294797100Z"
    }
   }
  },
  {
   "cell_type": "markdown",
   "source": [
    "综上所述，我们可以看到简单的代码就可以非常轻易的在毫秒级别内完成暴力破解，这也说明了SDES算法的不安全性。\n",
    "我们在后续的任务5中会详细讨论这个问题"
   ],
   "metadata": {
    "collapsed": false
   }
  }
 ],
 "metadata": {
  "kernelspec": {
   "display_name": "Python 3",
   "language": "python",
   "name": "python3"
  },
  "language_info": {
   "codemirror_mode": {
    "name": "ipython",
    "version": 2
   },
   "file_extension": ".py",
   "mimetype": "text/x-python",
   "name": "python",
   "nbconvert_exporter": "python",
   "pygments_lexer": "ipython2",
   "version": "2.7.6"
  }
 },
 "nbformat": 4,
 "nbformat_minor": 0
}
