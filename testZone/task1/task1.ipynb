{
 "cells": [
  {
   "cell_type": "markdown",
   "metadata": {
    "collapsed": false
   },
   "source": [
    "# 编程和测试要求\n",
    "## 1. 基本测试\n",
    "\n",
    "> 根据S-DES算法编写和调试程序，提供GUI解密支持用户交互。输入可以是8bit的数据和10bit的密钥，输出是8bit的密文。\n",
    "\n",
    "我们在GUI界面中勾选Bit,并给出三组满足要求的输入进行测试:"
   ]
  },
  {
   "cell_type": "code",
   "execution_count": 3,
   "metadata": {
    "ExecuteTime": {
     "end_time": "2023-09-23T16:24:42.384549800Z",
     "start_time": "2023-09-23T16:24:42.378422100Z"
    },
    "collapsed": false
   },
   "outputs": [],
   "source": [
    "# 加载实现的加密算法类\n",
    "from SDES.SDES import SDES"
   ]
  },
  {
   "cell_type": "code",
   "execution_count": 7,
   "metadata": {
    "ExecuteTime": {
     "end_time": "2023-09-23T16:30:36.695085900Z",
     "start_time": "2023-09-23T16:30:36.691699500Z"
    },
    "collapsed": false
   },
   "outputs": [
    {
     "name": "stdout",
     "output_type": "stream",
     "text": [
      "明文1: 10101010\n",
      "明文1: 11010110\n",
      "明文1: 11111111\n",
      "\n",
      "明文1加密后的密文为：11110100\n",
      "明文2加密后的密文为：11101101\n",
      "明文3加密后的密文为：10111011\n",
      "\n",
      "密文1解密后的明文为：10101010\n",
      "密文2解密后的明文为：11010110\n",
      "密文3解密后的明文为：11111111\n"
     ]
    }
   ],
   "source": [
    "# 1. 初始化SDES类\n",
    "Validation1 = SDES(key='1101001001')\n",
    "\n",
    "# 2. 加密\n",
    "ciphertext1 = Validation1.encrypt(plaintext='10101010')\n",
    "ciphertext2 = Validation1.encrypt(plaintext='11010110')\n",
    "ciphertext3 = Validation1.encrypt(plaintext='11111111')\n",
    "\n",
    "print(\"明文1:\",'10101010')\n",
    "print(\"明文1:\",'11010110')\n",
    "print(\"明文1:\",'11111111')\n",
    "print('')\n",
    "print(\"明文1加密后的密文为：{}\".format(ciphertext1))\n",
    "print(\"明文2加密后的密文为：{}\".format(ciphertext2))\n",
    "print(\"明文3加密后的密文为：{}\".format(ciphertext3))\n",
    "# 3. 解密\n",
    "plaintext1 = Validation1.decrypt(ciphertext=ciphertext1)\n",
    "plaintext2 = Validation1.decrypt(ciphertext=ciphertext2)\n",
    "plaintext3 = Validation1.decrypt(ciphertext=ciphertext3)\n",
    "\n",
    "print('')\n",
    "print(\"密文1解密后的明文为：{}\".format(plaintext1))\n",
    "print(\"密文2解密后的明文为：{}\".format(plaintext2))\n",
    "print(\"密文3解密后的明文为：{}\".format(plaintext3))"
   ]
  },
  {
   "cell_type": "markdown",
   "metadata": {
    "collapsed": false
   },
   "source": [
    "可以看到三个明文加密解密后得到本身，证明我们的程序能够正确地处理bit输入"
   ]
  }
 ],
 "metadata": {
  "kernelspec": {
   "display_name": "Python 3",
   "language": "python",
   "name": "python3"
  },
  "language_info": {
   "codemirror_mode": {
    "name": "ipython",
    "version": 2
   },
   "file_extension": ".py",
   "mimetype": "text/x-python",
   "name": "python",
   "nbconvert_exporter": "python",
   "pygments_lexer": "ipython2",
   "version": "2.7.6"
  }
 },
 "nbformat": 4,
 "nbformat_minor": 0
}
