{
 "cells": [
  {
   "cell_type": "markdown",
   "source": [
    "# 编程和测试要求\n",
    "## 2. 交叉测试\n",
    "\n",
    "> 考虑到是**算法标准**，所有人在编写程序的时候需要使用相同算法流程和转换单元(P-Box、S-Box等)，以保证算法和程序在异构的系统或平台上都可以正常运行。设有A和B两组位同学(选择相同的密钥K)；则A、B组同学编写的程序对明文P进行加密得到相同的密文C；或者B组同学接收到A组程序加密的密文C，使用B组程序进行解密可得到与A相同的P。\n",
    "\n",
    "所以这里我们小组与另外两个小组进行了交叉测试，测试结果如下："
   ],
   "metadata": {
    "collapsed": false
   }
  },
  {
   "cell_type": "code",
   "execution_count": 1,
   "outputs": [
    {
     "name": "stdout",
     "output_type": "stream",
     "text": [
      "使用S-DES加密算法进行加密/解密处理...\n"
     ]
    }
   ],
   "source": [
    "# 加载实现的加密算法类\n",
    "from SDES.SDES import SDES"
   ],
   "metadata": {
    "collapsed": false,
    "ExecuteTime": {
     "end_time": "2023-09-22T16:18:49.435004100Z",
     "start_time": "2023-09-22T16:18:49.393992900Z"
    }
   }
  },
  {
   "cell_type": "markdown",
   "source": [
    "### 2.1 与小组1的交叉测试（Java实现）\n",
    "\n",
    "```java\n",
    "    String key = \"1010101010\"; // Input 10-bit key\n",
    "    int[] plaintext = {1,1,1,1,1,1,1,1};\n",
    "    // 8位初始加密信息 plaintext 数组类型8bits加密输出结果: [1, 1, 1, 0, 1, 0, 0, 0]\n",
    "```"
   ],
   "metadata": {
    "collapsed": false
   }
  },
  {
   "cell_type": "code",
   "execution_count": 2,
   "outputs": [
    {
     "name": "stdout",
     "output_type": "stream",
     "text": [
      "加密后的密文为：11101000\n",
      "解密后的明文为：11111111\n"
     ]
    }
   ],
   "source": [
    "# 1. 初始化SDES类\n",
    "Validation1 = SDES(key='1010101010')\n",
    "\n",
    "# 2. 加密\n",
    "ciphertext = Validation1.encrypt(plaintext='11111111')\n",
    "print(\"加密后的密文为：{}\".format(ciphertext))\n",
    "\n",
    "# 3. 解密\n",
    "plaintext = Validation1.decrypt(ciphertext=ciphertext)\n",
    "print(\"解密后的明文为：{}\".format(plaintext))"
   ],
   "metadata": {
    "collapsed": false,
    "ExecuteTime": {
     "end_time": "2023-09-22T16:18:49.441004800Z",
     "start_time": "2023-09-22T16:18:49.405005200Z"
    }
   }
  },
  {
   "cell_type": "code",
   "execution_count": 3,
   "outputs": [],
   "source": [
    "# String key = \"1010101010\"; // Input 10-bit key\n",
    "# int[] plaintext = {1,1,1,1,1,1,1,1};\n",
    "# // 8位初始加密信息 plaintext 数组类型8bits加密输出结果: [1, 1, 1, 0, 1, 0, 0, 0]"
   ],
   "metadata": {
    "collapsed": false,
    "ExecuteTime": {
     "end_time": "2023-09-22T16:18:49.442004500Z",
     "start_time": "2023-09-22T16:18:49.421645500Z"
    }
   }
  },
  {
   "cell_type": "markdown",
   "source": [
    "可以看出加密与解密过程被正确的执行了"
   ],
   "metadata": {
    "collapsed": false
   }
  },
  {
   "cell_type": "markdown",
   "source": [
    "### 2.2 与小组2的交叉测试（Python实现）\n",
    "\n",
    "```python\n",
    "    key = '1111000001'\n",
    "    plaintext = '11001100'\n",
    "    # 加密结果：10010101\n",
    "```"
   ],
   "metadata": {
    "collapsed": false
   }
  },
  {
   "cell_type": "code",
   "execution_count": 4,
   "outputs": [
    {
     "name": "stdout",
     "output_type": "stream",
     "text": [
      "加密后的密文为：10010101\n",
      "解密后的明文为：11001100\n"
     ]
    }
   ],
   "source": [
    "# 1. 初始化SDES类\n",
    "Validation2 = SDES(key='1111000001')\n",
    "\n",
    "# 2. 加密\n",
    "ciphertext = Validation1.encrypt(plaintext='11001100')\n",
    "print(\"加密后的密文为：{}\".format(ciphertext))\n",
    "\n",
    "# 3. 解密\n",
    "plaintext = Validation1.decrypt(ciphertext=ciphertext)\n",
    "print(\"解密后的明文为：{}\".format(plaintext))"
   ],
   "metadata": {
    "collapsed": false,
    "ExecuteTime": {
     "end_time": "2023-09-22T16:18:49.451004400Z",
     "start_time": "2023-09-22T16:18:49.438005100Z"
    }
   }
  },
  {
   "cell_type": "code",
   "execution_count": 5,
   "outputs": [],
   "source": [
    "# key = '1111000001'\n",
    "# plaintext = '11001100'\n",
    "# 加密结果：10010101"
   ],
   "metadata": {
    "collapsed": false,
    "ExecuteTime": {
     "end_time": "2023-09-22T16:18:49.498039400Z",
     "start_time": "2023-09-22T16:18:49.452004800Z"
    }
   }
  },
  {
   "cell_type": "markdown",
   "source": [
    "经过两次的交叉测试，可以看出我们的算法实现是正确的。"
   ],
   "metadata": {
    "collapsed": false
   }
  }
 ],
 "metadata": {
  "kernelspec": {
   "display_name": "Python 3",
   "language": "python",
   "name": "python3"
  },
  "language_info": {
   "codemirror_mode": {
    "name": "ipython",
    "version": 2
   },
   "file_extension": ".py",
   "mimetype": "text/x-python",
   "name": "python",
   "nbconvert_exporter": "python",
   "pygments_lexer": "ipython2",
   "version": "2.7.6"
  }
 },
 "nbformat": 4,
 "nbformat_minor": 0
}
